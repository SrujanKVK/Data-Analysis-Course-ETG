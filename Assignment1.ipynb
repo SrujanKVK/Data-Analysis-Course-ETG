{
 "cells": [
  {
   "cell_type": "code",
   "execution_count": 4,
   "id": "db6fcb16",
   "metadata": {},
   "outputs": [],
   "source": [
    "import pandas as pd\n",
    "import numpy as np\n",
    "import matplotlib.pyplot as plt"
   ]
  },
  {
   "cell_type": "code",
   "execution_count": 5,
   "id": "830aa0c9",
   "metadata": {},
   "outputs": [],
   "source": [
    "df = pd.read_csv(\"https://raw.githubusercontent.com/AshishJangra27/Data-Analysis-Course-ETG/main/Data%20Analysis%20Assignment/winter.csv\")"
   ]
  },
  {
   "cell_type": "code",
   "execution_count": 3,
   "id": "ff6e0ac9",
   "metadata": {
    "scrolled": true
   },
   "outputs": [
    {
     "data": {
      "text/html": [
       "<div>\n",
       "<style scoped>\n",
       "    .dataframe tbody tr th:only-of-type {\n",
       "        vertical-align: middle;\n",
       "    }\n",
       "\n",
       "    .dataframe tbody tr th {\n",
       "        vertical-align: top;\n",
       "    }\n",
       "\n",
       "    .dataframe thead th {\n",
       "        text-align: right;\n",
       "    }\n",
       "</style>\n",
       "<table border=\"1\" class=\"dataframe\">\n",
       "  <thead>\n",
       "    <tr style=\"text-align: right;\">\n",
       "      <th></th>\n",
       "      <th>Year</th>\n",
       "      <th>City</th>\n",
       "      <th>Sport</th>\n",
       "      <th>Discipline</th>\n",
       "      <th>Athlete</th>\n",
       "      <th>Country</th>\n",
       "      <th>Gender</th>\n",
       "      <th>Event</th>\n",
       "      <th>Medal</th>\n",
       "    </tr>\n",
       "  </thead>\n",
       "  <tbody>\n",
       "    <tr>\n",
       "      <th>0</th>\n",
       "      <td>1924</td>\n",
       "      <td>Chamonix</td>\n",
       "      <td>Biathlon</td>\n",
       "      <td>Biathlon</td>\n",
       "      <td>BERTHET, G.</td>\n",
       "      <td>FRA</td>\n",
       "      <td>Men</td>\n",
       "      <td>Military Patrol</td>\n",
       "      <td>Bronze</td>\n",
       "    </tr>\n",
       "    <tr>\n",
       "      <th>1</th>\n",
       "      <td>1924</td>\n",
       "      <td>Chamonix</td>\n",
       "      <td>Biathlon</td>\n",
       "      <td>Biathlon</td>\n",
       "      <td>MANDRILLON, C.</td>\n",
       "      <td>FRA</td>\n",
       "      <td>Men</td>\n",
       "      <td>Military Patrol</td>\n",
       "      <td>Bronze</td>\n",
       "    </tr>\n",
       "    <tr>\n",
       "      <th>2</th>\n",
       "      <td>1924</td>\n",
       "      <td>Chamonix</td>\n",
       "      <td>Biathlon</td>\n",
       "      <td>Biathlon</td>\n",
       "      <td>MANDRILLON, Maurice</td>\n",
       "      <td>FRA</td>\n",
       "      <td>Men</td>\n",
       "      <td>Military Patrol</td>\n",
       "      <td>Bronze</td>\n",
       "    </tr>\n",
       "    <tr>\n",
       "      <th>3</th>\n",
       "      <td>1924</td>\n",
       "      <td>Chamonix</td>\n",
       "      <td>Biathlon</td>\n",
       "      <td>Biathlon</td>\n",
       "      <td>VANDELLE, André</td>\n",
       "      <td>FRA</td>\n",
       "      <td>Men</td>\n",
       "      <td>Military Patrol</td>\n",
       "      <td>Bronze</td>\n",
       "    </tr>\n",
       "    <tr>\n",
       "      <th>4</th>\n",
       "      <td>1924</td>\n",
       "      <td>Chamonix</td>\n",
       "      <td>Biathlon</td>\n",
       "      <td>Biathlon</td>\n",
       "      <td>AUFDENBLATTEN, Adolf</td>\n",
       "      <td>SUI</td>\n",
       "      <td>Men</td>\n",
       "      <td>Military Patrol</td>\n",
       "      <td>Gold</td>\n",
       "    </tr>\n",
       "    <tr>\n",
       "      <th>...</th>\n",
       "      <td>...</td>\n",
       "      <td>...</td>\n",
       "      <td>...</td>\n",
       "      <td>...</td>\n",
       "      <td>...</td>\n",
       "      <td>...</td>\n",
       "      <td>...</td>\n",
       "      <td>...</td>\n",
       "      <td>...</td>\n",
       "    </tr>\n",
       "    <tr>\n",
       "      <th>5765</th>\n",
       "      <td>2014</td>\n",
       "      <td>Sochi</td>\n",
       "      <td>Skiing</td>\n",
       "      <td>Snowboard</td>\n",
       "      <td>JONES, Jenny</td>\n",
       "      <td>GBR</td>\n",
       "      <td>Women</td>\n",
       "      <td>Slopestyle</td>\n",
       "      <td>Bronze</td>\n",
       "    </tr>\n",
       "    <tr>\n",
       "      <th>5766</th>\n",
       "      <td>2014</td>\n",
       "      <td>Sochi</td>\n",
       "      <td>Skiing</td>\n",
       "      <td>Snowboard</td>\n",
       "      <td>ANDERSON, Jamie</td>\n",
       "      <td>USA</td>\n",
       "      <td>Women</td>\n",
       "      <td>Slopestyle</td>\n",
       "      <td>Gold</td>\n",
       "    </tr>\n",
       "    <tr>\n",
       "      <th>5767</th>\n",
       "      <td>2014</td>\n",
       "      <td>Sochi</td>\n",
       "      <td>Skiing</td>\n",
       "      <td>Snowboard</td>\n",
       "      <td>MALTAIS, Dominique</td>\n",
       "      <td>CAN</td>\n",
       "      <td>Women</td>\n",
       "      <td>Snowboard Cross</td>\n",
       "      <td>Silver</td>\n",
       "    </tr>\n",
       "    <tr>\n",
       "      <th>5768</th>\n",
       "      <td>2014</td>\n",
       "      <td>Sochi</td>\n",
       "      <td>Skiing</td>\n",
       "      <td>Snowboard</td>\n",
       "      <td>SAMKOVA, Eva</td>\n",
       "      <td>CZE</td>\n",
       "      <td>Women</td>\n",
       "      <td>Snowboard Cross</td>\n",
       "      <td>Gold</td>\n",
       "    </tr>\n",
       "    <tr>\n",
       "      <th>5769</th>\n",
       "      <td>2014</td>\n",
       "      <td>Sochi</td>\n",
       "      <td>Skiing</td>\n",
       "      <td>Snowboard</td>\n",
       "      <td>TRESPEUCH, Chloe</td>\n",
       "      <td>FRA</td>\n",
       "      <td>Women</td>\n",
       "      <td>Snowboard Cross</td>\n",
       "      <td>Bronze</td>\n",
       "    </tr>\n",
       "  </tbody>\n",
       "</table>\n",
       "<p>5770 rows × 9 columns</p>\n",
       "</div>"
      ],
      "text/plain": [
       "      Year      City     Sport Discipline               Athlete Country  \\\n",
       "0     1924  Chamonix  Biathlon   Biathlon           BERTHET, G.     FRA   \n",
       "1     1924  Chamonix  Biathlon   Biathlon        MANDRILLON, C.     FRA   \n",
       "2     1924  Chamonix  Biathlon   Biathlon   MANDRILLON, Maurice     FRA   \n",
       "3     1924  Chamonix  Biathlon   Biathlon       VANDELLE, André     FRA   \n",
       "4     1924  Chamonix  Biathlon   Biathlon  AUFDENBLATTEN, Adolf     SUI   \n",
       "...    ...       ...       ...        ...                   ...     ...   \n",
       "5765  2014     Sochi    Skiing  Snowboard          JONES, Jenny     GBR   \n",
       "5766  2014     Sochi    Skiing  Snowboard       ANDERSON, Jamie     USA   \n",
       "5767  2014     Sochi    Skiing  Snowboard    MALTAIS, Dominique     CAN   \n",
       "5768  2014     Sochi    Skiing  Snowboard          SAMKOVA, Eva     CZE   \n",
       "5769  2014     Sochi    Skiing  Snowboard      TRESPEUCH, Chloe     FRA   \n",
       "\n",
       "     Gender            Event   Medal  \n",
       "0       Men  Military Patrol  Bronze  \n",
       "1       Men  Military Patrol  Bronze  \n",
       "2       Men  Military Patrol  Bronze  \n",
       "3       Men  Military Patrol  Bronze  \n",
       "4       Men  Military Patrol    Gold  \n",
       "...     ...              ...     ...  \n",
       "5765  Women       Slopestyle  Bronze  \n",
       "5766  Women       Slopestyle    Gold  \n",
       "5767  Women  Snowboard Cross  Silver  \n",
       "5768  Women  Snowboard Cross    Gold  \n",
       "5769  Women  Snowboard Cross  Bronze  \n",
       "\n",
       "[5770 rows x 9 columns]"
      ]
     },
     "execution_count": 3,
     "metadata": {},
     "output_type": "execute_result"
    }
   ],
   "source": [
    "df"
   ]
  },
  {
   "cell_type": "markdown",
   "id": "418ca09a",
   "metadata": {},
   "source": [
    "What is the percentage of Male Players in the Winter Olympics"
   ]
  },
  {
   "cell_type": "code",
   "execution_count": 26,
   "id": "015b4241",
   "metadata": {},
   "outputs": [
    {
     "name": "stdout",
     "output_type": "stream",
     "text": [
      "68.36540128271797\n"
     ]
    }
   ],
   "source": [
    "m = 0;\n",
    "for i in df['Gender'].values:\n",
    "    \n",
    "    if(i == 'Men'):\n",
    "        m +=1\n",
    "average = ((m/5769.0)*100)\n",
    "print(average)"
   ]
  },
  {
   "cell_type": "code",
   "execution_count": 19,
   "id": "39bd038c",
   "metadata": {},
   "outputs": [
    {
     "data": {
      "text/plain": [
       "array(['Men', 'Men', 'Men', ..., 'Women', 'Women', 'Women'], dtype=object)"
      ]
     },
     "execution_count": 19,
     "metadata": {},
     "output_type": "execute_result"
    }
   ],
   "source": [
    "df['Gender'].values"
   ]
  },
  {
   "cell_type": "markdown",
   "id": "06202aa4",
   "metadata": {},
   "source": [
    "  Number of Gold Medals wins in entire Winter Olympics\n",
    " "
   ]
  },
  {
   "cell_type": "code",
   "execution_count": 27,
   "id": "409f5a1d",
   "metadata": {},
   "outputs": [
    {
     "name": "stdout",
     "output_type": "stream",
     "text": [
      "1921\n"
     ]
    }
   ],
   "source": [
    "g = 0;\n",
    "for i in df['Medal'].values:\n",
    "    \n",
    "    if(i == 'Gold'):\n",
    "        g +=1\n",
    "print(g)"
   ]
  },
  {
   "cell_type": "markdown",
   "id": "5374e02b",
   "metadata": {},
   "source": [
    "Which country is having most numbers of Medals"
   ]
  },
  {
   "cell_type": "code",
   "execution_count": 29,
   "id": "acca566c",
   "metadata": {},
   "outputs": [
    {
     "data": {
      "text/plain": [
       "array(['FRA', 'SUI', 'FIN', 'BEL', 'GBR', 'SWE', 'CAN', 'USA', 'AUT',\n",
       "       'NOR', 'GER', 'TCH', 'HUN', 'ITA', 'FRG', 'NED', 'URS', 'EUA',\n",
       "       'JPN', 'POL', 'PRK', 'ROU', 'GDR', 'ESP', 'LIE', 'BUL', 'YUG',\n",
       "       'EUN', 'KOR', 'CHN', 'LUX', 'NZL', 'RUS', 'UKR', 'BLR', 'AUS',\n",
       "       'SLO', 'KAZ', 'UZB', 'DEN', 'CZE', 'CRO', 'EST', 'LAT', 'SVK'],\n",
       "      dtype=object)"
      ]
     },
     "execution_count": 29,
     "metadata": {},
     "output_type": "execute_result"
    }
   ],
   "source": [
    "df['Country'].unique()"
   ]
  },
  {
   "cell_type": "code",
   "execution_count": 30,
   "id": "675f00fc",
   "metadata": {},
   "outputs": [],
   "source": [
    "def country(name):\n",
    "    \n",
    "    c = 0\n",
    "    \n",
    "    for i in df['Country'].values:\n",
    "        \n",
    "        if (i == name):\n",
    "            c += 1\n",
    "            \n",
    "    return c"
   ]
  },
  {
   "cell_type": "code",
   "execution_count": 31,
   "id": "63800834",
   "metadata": {},
   "outputs": [],
   "source": [
    "dct = {}\n",
    "\n",
    "for i in df['Country'].unique():\n",
    "    dct[i] = country(i)"
   ]
  },
  {
   "cell_type": "code",
   "execution_count": 38,
   "id": "d551e49b",
   "metadata": {},
   "outputs": [
    {
     "data": {
      "text/plain": [
       "[('NZL', 1),\n",
       " ('UZB', 1),\n",
       " ('PRK', 2),\n",
       " ('ROU', 2),\n",
       " ('ESP', 2),\n",
       " ('LUX', 2),\n",
       " ('DEN', 5),\n",
       " ('SVK', 5),\n",
       " ('BUL', 6),\n",
       " ('YUG', 7),\n",
       " ('KAZ', 7),\n",
       " ('EST', 7),\n",
       " ('LIE', 9),\n",
       " ('UKR', 11),\n",
       " ('CRO', 11),\n",
       " ('HUN', 12),\n",
       " ('BEL', 13),\n",
       " ('BLR', 15),\n",
       " ('AUS', 15),\n",
       " ('LAT', 15),\n",
       " ('SLO', 18),\n",
       " ('EUA', 21),\n",
       " ('POL', 27),\n",
       " ('EUN', 60),\n",
       " ('JPN', 63),\n",
       " ('CZE', 75),\n",
       " ('GBR', 79),\n",
       " ('CHN', 82),\n",
       " ('KOR', 87),\n",
       " ('FRG', 94),\n",
       " ('NED', 122),\n",
       " ('FRA', 152),\n",
       " ('TCH', 158),\n",
       " ('GDR', 162),\n",
       " ('ITA', 192),\n",
       " ('RUS', 263),\n",
       " ('AUT', 280),\n",
       " ('SUI', 285),\n",
       " ('GER', 360),\n",
       " ('SWE', 433),\n",
       " ('FIN', 434),\n",
       " ('URS', 440),\n",
       " ('NOR', 457),\n",
       " ('CAN', 625),\n",
       " ('USA', 653)]"
      ]
     },
     "execution_count": 38,
     "metadata": {},
     "output_type": "execute_result"
    }
   ],
   "source": [
    "sorted_dct = sorted(dct.items(), key = lambda kv: kv[1])\n",
    "sorted_dct"
   ]
  },
  {
   "cell_type": "markdown",
   "id": "4d62c458",
   "metadata": {},
   "source": [
    "Which country is having most numbers of Gold Medals"
   ]
  },
  {
   "cell_type": "code",
   "execution_count": 39,
   "id": "fba7f2ca",
   "metadata": {},
   "outputs": [],
   "source": [
    "temp = df[df['Medal']=='Gold']"
   ]
  },
  {
   "cell_type": "code",
   "execution_count": 40,
   "id": "4daa433f",
   "metadata": {},
   "outputs": [
    {
     "data": {
      "text/html": [
       "<div>\n",
       "<style scoped>\n",
       "    .dataframe tbody tr th:only-of-type {\n",
       "        vertical-align: middle;\n",
       "    }\n",
       "\n",
       "    .dataframe tbody tr th {\n",
       "        vertical-align: top;\n",
       "    }\n",
       "\n",
       "    .dataframe thead th {\n",
       "        text-align: right;\n",
       "    }\n",
       "</style>\n",
       "<table border=\"1\" class=\"dataframe\">\n",
       "  <thead>\n",
       "    <tr style=\"text-align: right;\">\n",
       "      <th></th>\n",
       "      <th>Year</th>\n",
       "      <th>City</th>\n",
       "      <th>Sport</th>\n",
       "      <th>Discipline</th>\n",
       "      <th>Athlete</th>\n",
       "      <th>Country</th>\n",
       "      <th>Gender</th>\n",
       "      <th>Event</th>\n",
       "      <th>Medal</th>\n",
       "    </tr>\n",
       "  </thead>\n",
       "  <tbody>\n",
       "    <tr>\n",
       "      <th>4</th>\n",
       "      <td>1924</td>\n",
       "      <td>Chamonix</td>\n",
       "      <td>Biathlon</td>\n",
       "      <td>Biathlon</td>\n",
       "      <td>AUFDENBLATTEN, Adolf</td>\n",
       "      <td>SUI</td>\n",
       "      <td>Men</td>\n",
       "      <td>Military Patrol</td>\n",
       "      <td>Gold</td>\n",
       "    </tr>\n",
       "    <tr>\n",
       "      <th>5</th>\n",
       "      <td>1924</td>\n",
       "      <td>Chamonix</td>\n",
       "      <td>Biathlon</td>\n",
       "      <td>Biathlon</td>\n",
       "      <td>JULEN, Alphonse</td>\n",
       "      <td>SUI</td>\n",
       "      <td>Men</td>\n",
       "      <td>Military Patrol</td>\n",
       "      <td>Gold</td>\n",
       "    </tr>\n",
       "    <tr>\n",
       "      <th>6</th>\n",
       "      <td>1924</td>\n",
       "      <td>Chamonix</td>\n",
       "      <td>Biathlon</td>\n",
       "      <td>Biathlon</td>\n",
       "      <td>JULEN, Ant.</td>\n",
       "      <td>SUI</td>\n",
       "      <td>Men</td>\n",
       "      <td>Military Patrol</td>\n",
       "      <td>Gold</td>\n",
       "    </tr>\n",
       "    <tr>\n",
       "      <th>7</th>\n",
       "      <td>1924</td>\n",
       "      <td>Chamonix</td>\n",
       "      <td>Biathlon</td>\n",
       "      <td>Biathlon</td>\n",
       "      <td>VAUCHER, D.</td>\n",
       "      <td>SUI</td>\n",
       "      <td>Men</td>\n",
       "      <td>Military Patrol</td>\n",
       "      <td>Gold</td>\n",
       "    </tr>\n",
       "    <tr>\n",
       "      <th>17</th>\n",
       "      <td>1924</td>\n",
       "      <td>Chamonix</td>\n",
       "      <td>Bobsleigh</td>\n",
       "      <td>Bobsleigh</td>\n",
       "      <td>NEVEU, Alfred</td>\n",
       "      <td>SUI</td>\n",
       "      <td>Men</td>\n",
       "      <td>Four-Man</td>\n",
       "      <td>Gold</td>\n",
       "    </tr>\n",
       "    <tr>\n",
       "      <th>...</th>\n",
       "      <td>...</td>\n",
       "      <td>...</td>\n",
       "      <td>...</td>\n",
       "      <td>...</td>\n",
       "      <td>...</td>\n",
       "      <td>...</td>\n",
       "      <td>...</td>\n",
       "      <td>...</td>\n",
       "      <td>...</td>\n",
       "    </tr>\n",
       "    <tr>\n",
       "      <th>5757</th>\n",
       "      <td>2014</td>\n",
       "      <td>Sochi</td>\n",
       "      <td>Skiing</td>\n",
       "      <td>Snowboard</td>\n",
       "      <td>KUMMER, Patrizia</td>\n",
       "      <td>SUI</td>\n",
       "      <td>Women</td>\n",
       "      <td>Giant Parall.S.</td>\n",
       "      <td>Gold</td>\n",
       "    </tr>\n",
       "    <tr>\n",
       "      <th>5760</th>\n",
       "      <td>2014</td>\n",
       "      <td>Sochi</td>\n",
       "      <td>Skiing</td>\n",
       "      <td>Snowboard</td>\n",
       "      <td>FARRINGTON, Kaitlyn</td>\n",
       "      <td>USA</td>\n",
       "      <td>Women</td>\n",
       "      <td>Half-Pipe</td>\n",
       "      <td>Gold</td>\n",
       "    </tr>\n",
       "    <tr>\n",
       "      <th>5761</th>\n",
       "      <td>2014</td>\n",
       "      <td>Sochi</td>\n",
       "      <td>Skiing</td>\n",
       "      <td>Snowboard</td>\n",
       "      <td>DUJMOVITS, Julia</td>\n",
       "      <td>AUT</td>\n",
       "      <td>Women</td>\n",
       "      <td>Parallel Slalom</td>\n",
       "      <td>Gold</td>\n",
       "    </tr>\n",
       "    <tr>\n",
       "      <th>5766</th>\n",
       "      <td>2014</td>\n",
       "      <td>Sochi</td>\n",
       "      <td>Skiing</td>\n",
       "      <td>Snowboard</td>\n",
       "      <td>ANDERSON, Jamie</td>\n",
       "      <td>USA</td>\n",
       "      <td>Women</td>\n",
       "      <td>Slopestyle</td>\n",
       "      <td>Gold</td>\n",
       "    </tr>\n",
       "    <tr>\n",
       "      <th>5768</th>\n",
       "      <td>2014</td>\n",
       "      <td>Sochi</td>\n",
       "      <td>Skiing</td>\n",
       "      <td>Snowboard</td>\n",
       "      <td>SAMKOVA, Eva</td>\n",
       "      <td>CZE</td>\n",
       "      <td>Women</td>\n",
       "      <td>Snowboard Cross</td>\n",
       "      <td>Gold</td>\n",
       "    </tr>\n",
       "  </tbody>\n",
       "</table>\n",
       "<p>1921 rows × 9 columns</p>\n",
       "</div>"
      ],
      "text/plain": [
       "      Year      City      Sport Discipline               Athlete Country  \\\n",
       "4     1924  Chamonix   Biathlon   Biathlon  AUFDENBLATTEN, Adolf     SUI   \n",
       "5     1924  Chamonix   Biathlon   Biathlon       JULEN, Alphonse     SUI   \n",
       "6     1924  Chamonix   Biathlon   Biathlon           JULEN, Ant.     SUI   \n",
       "7     1924  Chamonix   Biathlon   Biathlon           VAUCHER, D.     SUI   \n",
       "17    1924  Chamonix  Bobsleigh  Bobsleigh         NEVEU, Alfred     SUI   \n",
       "...    ...       ...        ...        ...                   ...     ...   \n",
       "5757  2014     Sochi     Skiing  Snowboard      KUMMER, Patrizia     SUI   \n",
       "5760  2014     Sochi     Skiing  Snowboard   FARRINGTON, Kaitlyn     USA   \n",
       "5761  2014     Sochi     Skiing  Snowboard      DUJMOVITS, Julia     AUT   \n",
       "5766  2014     Sochi     Skiing  Snowboard       ANDERSON, Jamie     USA   \n",
       "5768  2014     Sochi     Skiing  Snowboard          SAMKOVA, Eva     CZE   \n",
       "\n",
       "     Gender            Event Medal  \n",
       "4       Men  Military Patrol  Gold  \n",
       "5       Men  Military Patrol  Gold  \n",
       "6       Men  Military Patrol  Gold  \n",
       "7       Men  Military Patrol  Gold  \n",
       "17      Men         Four-Man  Gold  \n",
       "...     ...              ...   ...  \n",
       "5757  Women  Giant Parall.S.  Gold  \n",
       "5760  Women        Half-Pipe  Gold  \n",
       "5761  Women  Parallel Slalom  Gold  \n",
       "5766  Women       Slopestyle  Gold  \n",
       "5768  Women  Snowboard Cross  Gold  \n",
       "\n",
       "[1921 rows x 9 columns]"
      ]
     },
     "execution_count": 40,
     "metadata": {},
     "output_type": "execute_result"
    }
   ],
   "source": [
    "temp"
   ]
  },
  {
   "cell_type": "code",
   "execution_count": 61,
   "id": "4c68a1b0",
   "metadata": {},
   "outputs": [],
   "source": [
    "\n",
    "def golden(name):\n",
    "    c = 0\n",
    "    for i in temp.values:\n",
    "        if(i[5]==name):\n",
    "            c+=1\n",
    "    return c"
   ]
  },
  {
   "cell_type": "code",
   "execution_count": 62,
   "id": "a2ba6bb6",
   "metadata": {},
   "outputs": [
    {
     "data": {
      "text/plain": [
       "167"
      ]
     },
     "execution_count": 62,
     "metadata": {},
     "output_type": "execute_result"
    }
   ],
   "source": [
    "golden('USA' )"
   ]
  },
  {
   "cell_type": "code",
   "execution_count": 63,
   "id": "6b9dbd3b",
   "metadata": {},
   "outputs": [],
   "source": [
    "tort = df['Country'].unique()"
   ]
  },
  {
   "cell_type": "code",
   "execution_count": 66,
   "id": "e200f61c",
   "metadata": {},
   "outputs": [
    {
     "name": "stdout",
     "output_type": "stream",
     "text": [
      "FRA  has  36  Gold medals.\n",
      "SUI  has  76  Gold medals.\n",
      "FIN  has  66  Gold medals.\n",
      "BEL  has  2  Gold medals.\n",
      "GBR  has  34  Gold medals.\n",
      "SWE  has  127  Gold medals.\n",
      "CAN  has  315  Gold medals.\n",
      "USA  has  167  Gold medals.\n",
      "AUT  has  79  Gold medals.\n",
      "NOR  has  159  Gold medals.\n",
      "GER  has  137  Gold medals.\n",
      "TCH  has  2  Gold medals.\n",
      "HUN  has  0  Gold medals.\n",
      "ITA  has  58  Gold medals.\n",
      "FRG  has  23  Gold medals.\n",
      "NED  has  42  Gold medals.\n",
      "URS  has  250  Gold medals.\n",
      "EUA  has  8  Gold medals.\n",
      "JPN  has  17  Gold medals.\n",
      "POL  has  6  Gold medals.\n",
      "PRK  has  0  Gold medals.\n",
      "ROU  has  0  Gold medals.\n",
      "GDR  has  58  Gold medals.\n",
      "ESP  has  1  Gold medals.\n",
      "LIE  has  2  Gold medals.\n",
      "BUL  has  1  Gold medals.\n",
      "YUG  has  0  Gold medals.\n",
      "EUN  has  36  Gold medals.\n",
      "KOR  has  51  Gold medals.\n",
      "CHN  has  16  Gold medals.\n",
      "LUX  has  0  Gold medals.\n",
      "NZL  has  0  Gold medals.\n",
      "RUS  has  94  Gold medals.\n",
      "UKR  has  5  Gold medals.\n",
      "BLR  has  6  Gold medals.\n",
      "AUS  has  5  Gold medals.\n",
      "SLO  has  2  Gold medals.\n",
      "KAZ  has  1  Gold medals.\n",
      "UZB  has  1  Gold medals.\n",
      "DEN  has  0  Gold medals.\n",
      "CZE  has  28  Gold medals.\n",
      "CRO  has  4  Gold medals.\n",
      "EST  has  4  Gold medals.\n",
      "LAT  has  0  Gold medals.\n",
      "SVK  has  2  Gold medals.\n"
     ]
    }
   ],
   "source": [
    "dct1 = {}\n",
    "for i in tort:\n",
    "    print(i, ' has ', golden(i), ' Gold medals.')\n",
    "    dct1[i]= golden(i)\n"
   ]
  },
  {
   "cell_type": "code",
   "execution_count": 69,
   "id": "2a85a1b1",
   "metadata": {},
   "outputs": [
    {
     "data": {
      "text/plain": [
       "[('HUN', 0),\n",
       " ('PRK', 0),\n",
       " ('ROU', 0),\n",
       " ('YUG', 0),\n",
       " ('LUX', 0),\n",
       " ('NZL', 0),\n",
       " ('DEN', 0),\n",
       " ('LAT', 0),\n",
       " ('ESP', 1),\n",
       " ('BUL', 1),\n",
       " ('KAZ', 1),\n",
       " ('UZB', 1),\n",
       " ('BEL', 2),\n",
       " ('TCH', 2),\n",
       " ('LIE', 2),\n",
       " ('SLO', 2),\n",
       " ('SVK', 2),\n",
       " ('CRO', 4),\n",
       " ('EST', 4),\n",
       " ('UKR', 5),\n",
       " ('AUS', 5),\n",
       " ('POL', 6),\n",
       " ('BLR', 6),\n",
       " ('EUA', 8),\n",
       " ('CHN', 16),\n",
       " ('JPN', 17),\n",
       " ('FRG', 23),\n",
       " ('CZE', 28),\n",
       " ('GBR', 34),\n",
       " ('FRA', 36),\n",
       " ('EUN', 36),\n",
       " ('NED', 42),\n",
       " ('KOR', 51),\n",
       " ('ITA', 58),\n",
       " ('GDR', 58),\n",
       " ('FIN', 66),\n",
       " ('SUI', 76),\n",
       " ('AUT', 79),\n",
       " ('RUS', 94),\n",
       " ('SWE', 127),\n",
       " ('GER', 137),\n",
       " ('NOR', 159),\n",
       " ('USA', 167),\n",
       " ('URS', 250),\n",
       " ('CAN', 315)]"
      ]
     },
     "execution_count": 69,
     "metadata": {},
     "output_type": "execute_result"
    }
   ],
   "source": [
    "sorted_dct1 = sorted(dct1.items(), key = lambda kv: kv[1])\n",
    "sorted_dct1"
   ]
  },
  {
   "cell_type": "markdown",
   "id": "dda794e5",
   "metadata": {},
   "source": [
    "Which sport is having most number of Gold Medals"
   ]
  },
  {
   "cell_type": "code",
   "execution_count": 71,
   "id": "b46069da",
   "metadata": {},
   "outputs": [
    {
     "data": {
      "text/plain": [
       "[('Curling', 58),\n",
       " ('Luge', 62),\n",
       " ('Biathlon', 140),\n",
       " ('Bobsleigh', 144),\n",
       " ('Skating', 412),\n",
       " ('Ice Hockey', 510),\n",
       " ('Skiing', 595)]"
      ]
     },
     "execution_count": 71,
     "metadata": {},
     "output_type": "execute_result"
    }
   ],
   "source": [
    "temp = df[df['Medal']=='Gold']\n",
    "def golds(name):\n",
    "    c = 0\n",
    "    for i in temp.values:\n",
    "        if(i[2]==name):\n",
    "            c+=1\n",
    "    return c\n",
    "tort = df['Sport'].unique()\n",
    "dct2 = {}\n",
    "for i in tort:\n",
    "    \n",
    "    dct2[i]= golds(i)\n",
    "sorted_dct2 = sorted(dct2.items(), key = lambda kv: kv[1])\n",
    "sorted_dct2"
   ]
  },
  {
   "cell_type": "markdown",
   "id": "a4629739",
   "metadata": {},
   "source": [
    "Top 5 Disciplines in terms of Medals"
   ]
  },
  {
   "cell_type": "code",
   "execution_count": 75,
   "id": "10914e95",
   "metadata": {},
   "outputs": [],
   "source": [
    "dd=df['Discipline'].unique()"
   ]
  },
  {
   "cell_type": "code",
   "execution_count": 97,
   "id": "407446b1",
   "metadata": {},
   "outputs": [
    {
     "data": {
      "text/plain": [
       "array(['Biathlon', 'Bobsleigh', 'Curling', 'Ice Hockey', 'Figure skating',\n",
       "       'Speed skating', 'Cross Country Skiing', 'Nordic Combined',\n",
       "       'Ski Jumping', 'Skeleton', 'Alpine Skiing', 'Luge',\n",
       "       'Short Track Speed Skating', 'Freestyle Skiing', 'Snowboard'],\n",
       "      dtype=object)"
      ]
     },
     "execution_count": 97,
     "metadata": {},
     "output_type": "execute_result"
    }
   ],
   "source": []
  },
  {
   "cell_type": "code",
   "execution_count": 1,
   "id": "2f7631f5",
   "metadata": {},
   "outputs": [],
   "source": [
    "def dis(name):\n",
    "    \n",
    "    c = 0\n",
    "    \n",
    "    for i in df['Discipline'].values:\n",
    "        \n",
    "        if (i == name):\n",
    "            c += 1\n",
    "            \n",
    "    return c\n"
   ]
  },
  {
   "cell_type": "code",
   "execution_count": 7,
   "id": "1dcc567c",
   "metadata": {},
   "outputs": [
    {
     "data": {
      "text/plain": [
       "[('Skeleton', 30),\n",
       " ('Snowboard', 90),\n",
       " ('Freestyle Skiing', 102),\n",
       " ('Nordic Combined', 165),\n",
       " ('Curling', 172),\n",
       " ('Luge', 180),\n",
       " ('Ski Jumping', 207),\n",
       " ('Short Track Speed Skating', 290),\n",
       " ('Figure skating', 359),\n",
       " ('Biathlon', 420),\n",
       " ('Bobsleigh', 422),\n",
       " ('Alpine Skiing', 428),\n",
       " ('Speed skating', 580),\n",
       " ('Cross Country Skiing', 789),\n",
       " ('Ice Hockey', 1536)]"
      ]
     },
     "execution_count": 7,
     "metadata": {},
     "output_type": "execute_result"
    }
   ],
   "source": [
    "dctd = {}\n",
    "\n",
    "for i in df['Discipline'].unique():\n",
    "    dctd[i] = dis(i)\n",
    "sorted_dctd = sorted(dctd.items(), key = lambda kv: kv[1])\n",
    "sorted_dctd"
   ]
  },
  {
   "cell_type": "markdown",
   "id": "cb24507e",
   "metadata": {},
   "source": [
    "Top 5 Disciplines in terms of Bronze Medals"
   ]
  },
  {
   "cell_type": "code",
   "execution_count": 16,
   "id": "97aa1167",
   "metadata": {},
   "outputs": [
    {
     "data": {
      "text/plain": [
       "[('Skeleton', 10),\n",
       " ('Snowboard', 30),\n",
       " ('Freestyle Skiing', 34),\n",
       " ('Nordic Combined', 55),\n",
       " ('Curling', 56),\n",
       " ('Luge', 60),\n",
       " ('Ski Jumping', 68),\n",
       " ('Short Track Speed Skating', 96),\n",
       " ('Figure skating', 118),\n",
       " ('Biathlon', 139),\n",
       " ('Alpine Skiing', 141),\n",
       " ('Bobsleigh', 147),\n",
       " ('Speed skating', 190),\n",
       " ('Cross Country Skiing', 263),\n",
       " ('Ice Hockey', 512)]"
      ]
     },
     "execution_count": 16,
     "metadata": {},
     "output_type": "execute_result"
    }
   ],
   "source": [
    "temp = df[df['Medal']=='Bronze']\n",
    "def b(name):\n",
    "    c = 0\n",
    "    for i in temp.values:\n",
    "        if(i[3]==name):\n",
    "            c+=1\n",
    "    return c\n",
    "tort = df['Discipline'].unique()\n",
    "dct2 = {}\n",
    "for i in tort:\n",
    "    \n",
    "    dct2[i]= b(i)\n",
    "sorted_dct2 = sorted(dct2.items(), key = lambda kv: kv[1])\n",
    "sorted_dct2"
   ]
  },
  {
   "cell_type": "code",
   "execution_count": 13,
   "id": "ae96fe93",
   "metadata": {},
   "outputs": [],
   "source": []
  },
  {
   "cell_type": "code",
   "execution_count": null,
   "id": "4ab846be",
   "metadata": {},
   "outputs": [],
   "source": []
  }
 ],
 "metadata": {
  "kernelspec": {
   "display_name": "Python 3",
   "language": "python",
   "name": "python3"
  },
  "language_info": {
   "codemirror_mode": {
    "name": "ipython",
    "version": 3
   },
   "file_extension": ".py",
   "mimetype": "text/x-python",
   "name": "python",
   "nbconvert_exporter": "python",
   "pygments_lexer": "ipython3",
   "version": "3.8.8"
  }
 },
 "nbformat": 4,
 "nbformat_minor": 5
}
